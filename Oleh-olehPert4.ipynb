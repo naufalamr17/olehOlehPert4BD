{
 "cells": [
  {
   "cell_type": "code",
   "execution_count": 1,
   "metadata": {},
   "outputs": [],
   "source": [
    "import pandas as pd\n",
    "import numpy as np\n",
    "import matplotlib.pyplot as plt"
   ]
  },
  {
   "cell_type": "code",
   "execution_count": 2,
   "metadata": {},
   "outputs": [],
   "source": [
    "df = pd.read_excel('SeranganJantung.xlsx')"
   ]
  },
  {
   "cell_type": "code",
   "execution_count": 3,
   "metadata": {},
   "outputs": [
    {
     "data": {
      "text/html": [
       "<div>\n",
       "<style scoped>\n",
       "    .dataframe tbody tr th:only-of-type {\n",
       "        vertical-align: middle;\n",
       "    }\n",
       "\n",
       "    .dataframe tbody tr th {\n",
       "        vertical-align: top;\n",
       "    }\n",
       "\n",
       "    .dataframe thead th {\n",
       "        text-align: right;\n",
       "    }\n",
       "</style>\n",
       "<table border=\"1\" class=\"dataframe\">\n",
       "  <thead>\n",
       "    <tr style=\"text-align: right;\">\n",
       "      <th></th>\n",
       "      <th>Umur</th>\n",
       "      <th>Status Pernikahan</th>\n",
       "      <th>Jenis Kelamin</th>\n",
       "      <th>Kategori Berat Badan</th>\n",
       "      <th>Kolesterol</th>\n",
       "      <th>Pelatihan Pengelolaan Stress</th>\n",
       "      <th>Tingkat Stress</th>\n",
       "      <th>Serangan Jantung</th>\n",
       "    </tr>\n",
       "  </thead>\n",
       "  <tbody>\n",
       "    <tr>\n",
       "      <th>0</th>\n",
       "      <td>60.0</td>\n",
       "      <td>2.0</td>\n",
       "      <td>0.0</td>\n",
       "      <td>1.0</td>\n",
       "      <td>150.0</td>\n",
       "      <td>1.0</td>\n",
       "      <td>50.0</td>\n",
       "      <td>Yes</td>\n",
       "    </tr>\n",
       "    <tr>\n",
       "      <th>1</th>\n",
       "      <td>69.0</td>\n",
       "      <td>2.0</td>\n",
       "      <td>1.0</td>\n",
       "      <td>1.0</td>\n",
       "      <td>170.0</td>\n",
       "      <td>0.0</td>\n",
       "      <td>60.0</td>\n",
       "      <td>Yes</td>\n",
       "    </tr>\n",
       "    <tr>\n",
       "      <th>2</th>\n",
       "      <td>52.0</td>\n",
       "      <td>1.0</td>\n",
       "      <td>0.0</td>\n",
       "      <td>NaN</td>\n",
       "      <td>174.0</td>\n",
       "      <td>1.0</td>\n",
       "      <td>35.0</td>\n",
       "      <td>No</td>\n",
       "    </tr>\n",
       "    <tr>\n",
       "      <th>3</th>\n",
       "      <td>66.0</td>\n",
       "      <td>2.0</td>\n",
       "      <td>1.0</td>\n",
       "      <td>1.0</td>\n",
       "      <td>169.0</td>\n",
       "      <td>0.0</td>\n",
       "      <td>60.0</td>\n",
       "      <td>Yes</td>\n",
       "    </tr>\n",
       "    <tr>\n",
       "      <th>4</th>\n",
       "      <td>70.0</td>\n",
       "      <td>3.0</td>\n",
       "      <td>0.0</td>\n",
       "      <td>1.0</td>\n",
       "      <td>237.0</td>\n",
       "      <td>0.0</td>\n",
       "      <td>65.0</td>\n",
       "      <td>Yes</td>\n",
       "    </tr>\n",
       "    <tr>\n",
       "      <th>...</th>\n",
       "      <td>...</td>\n",
       "      <td>...</td>\n",
       "      <td>...</td>\n",
       "      <td>...</td>\n",
       "      <td>...</td>\n",
       "      <td>...</td>\n",
       "      <td>...</td>\n",
       "      <td>...</td>\n",
       "    </tr>\n",
       "    <tr>\n",
       "      <th>133</th>\n",
       "      <td>54.0</td>\n",
       "      <td>1.0</td>\n",
       "      <td>0.0</td>\n",
       "      <td>0.0</td>\n",
       "      <td>170.0</td>\n",
       "      <td>1.0</td>\n",
       "      <td>35.0</td>\n",
       "      <td>No</td>\n",
       "    </tr>\n",
       "    <tr>\n",
       "      <th>134</th>\n",
       "      <td>59.0</td>\n",
       "      <td>1.0</td>\n",
       "      <td>0.0</td>\n",
       "      <td>0.0</td>\n",
       "      <td>172.0</td>\n",
       "      <td>0.0</td>\n",
       "      <td>60.0</td>\n",
       "      <td>No</td>\n",
       "    </tr>\n",
       "    <tr>\n",
       "      <th>135</th>\n",
       "      <td>55.0</td>\n",
       "      <td>3.0</td>\n",
       "      <td>0.0</td>\n",
       "      <td>0.0</td>\n",
       "      <td>122.0</td>\n",
       "      <td>1.0</td>\n",
       "      <td>45.0</td>\n",
       "      <td>No</td>\n",
       "    </tr>\n",
       "    <tr>\n",
       "      <th>136</th>\n",
       "      <td>73.0</td>\n",
       "      <td>2.0</td>\n",
       "      <td>1.0</td>\n",
       "      <td>1.0</td>\n",
       "      <td>236.0</td>\n",
       "      <td>0.0</td>\n",
       "      <td>60.0</td>\n",
       "      <td>Yes</td>\n",
       "    </tr>\n",
       "    <tr>\n",
       "      <th>137</th>\n",
       "      <td>62.0</td>\n",
       "      <td>3.0</td>\n",
       "      <td>0.0</td>\n",
       "      <td>NaN</td>\n",
       "      <td>185.0</td>\n",
       "      <td>1.0</td>\n",
       "      <td>650.0</td>\n",
       "      <td>No</td>\n",
       "    </tr>\n",
       "  </tbody>\n",
       "</table>\n",
       "<p>138 rows × 8 columns</p>\n",
       "</div>"
      ],
      "text/plain": [
       "     Umur  Status Pernikahan  Jenis Kelamin  Kategori Berat Badan  Kolesterol  \\\n",
       "0    60.0                2.0            0.0                   1.0       150.0   \n",
       "1    69.0                2.0            1.0                   1.0       170.0   \n",
       "2    52.0                1.0            0.0                   NaN       174.0   \n",
       "3    66.0                2.0            1.0                   1.0       169.0   \n",
       "4    70.0                3.0            0.0                   1.0       237.0   \n",
       "..    ...                ...            ...                   ...         ...   \n",
       "133  54.0                1.0            0.0                   0.0       170.0   \n",
       "134  59.0                1.0            0.0                   0.0       172.0   \n",
       "135  55.0                3.0            0.0                   0.0       122.0   \n",
       "136  73.0                2.0            1.0                   1.0       236.0   \n",
       "137  62.0                3.0            0.0                   NaN       185.0   \n",
       "\n",
       "     Pelatihan Pengelolaan Stress  Tingkat Stress Serangan Jantung  \n",
       "0                             1.0            50.0              Yes  \n",
       "1                             0.0            60.0              Yes  \n",
       "2                             1.0            35.0               No  \n",
       "3                             0.0            60.0              Yes  \n",
       "4                             0.0            65.0              Yes  \n",
       "..                            ...             ...              ...  \n",
       "133                           1.0            35.0               No  \n",
       "134                           0.0            60.0               No  \n",
       "135                           1.0            45.0               No  \n",
       "136                           0.0            60.0              Yes  \n",
       "137                           1.0           650.0               No  \n",
       "\n",
       "[138 rows x 8 columns]"
      ]
     },
     "execution_count": 3,
     "metadata": {},
     "output_type": "execute_result"
    }
   ],
   "source": [
    "df"
   ]
  },
  {
   "cell_type": "code",
   "execution_count": 4,
   "metadata": {},
   "outputs": [
    {
     "data": {
      "text/plain": [
       "Umur                            3\n",
       "Status Pernikahan               2\n",
       "Jenis Kelamin                   1\n",
       "Kategori Berat Badan            2\n",
       "Kolesterol                      3\n",
       "Pelatihan Pengelolaan Stress    1\n",
       "Tingkat Stress                  0\n",
       "Serangan Jantung                0\n",
       "dtype: int64"
      ]
     },
     "execution_count": 4,
     "metadata": {},
     "output_type": "execute_result"
    }
   ],
   "source": [
    "df.isna().sum()"
   ]
  },
  {
   "cell_type": "code",
   "execution_count": 5,
   "metadata": {},
   "outputs": [
    {
     "name": "stderr",
     "output_type": "stream",
     "text": [
      "C:\\Users\\USER\\AppData\\Local\\Packages\\PythonSoftwareFoundation.Python.3.7_qbz5n2kfra8p0\\LocalCache\\local-packages\\Python37\\site-packages\\ipykernel_launcher.py:1: FutureWarning: Dropping of nuisance columns in DataFrame reductions (with 'numeric_only=None') is deprecated; in a future version this will raise TypeError.  Select only valid columns before calling the reduction.\n",
      "  \"\"\"Entry point for launching an IPython kernel.\n"
     ]
    }
   ],
   "source": [
    "df = df.fillna(df.mean())"
   ]
  },
  {
   "cell_type": "code",
   "execution_count": 6,
   "metadata": {},
   "outputs": [
    {
     "data": {
      "text/plain": [
       "Umur                            0\n",
       "Status Pernikahan               0\n",
       "Jenis Kelamin                   0\n",
       "Kategori Berat Badan            0\n",
       "Kolesterol                      0\n",
       "Pelatihan Pengelolaan Stress    0\n",
       "Tingkat Stress                  0\n",
       "Serangan Jantung                0\n",
       "dtype: int64"
      ]
     },
     "execution_count": 6,
     "metadata": {},
     "output_type": "execute_result"
    }
   ],
   "source": [
    "df.isna().sum()"
   ]
  },
  {
   "cell_type": "code",
   "execution_count": 7,
   "metadata": {},
   "outputs": [
    {
     "data": {
      "text/html": [
       "<div>\n",
       "<style scoped>\n",
       "    .dataframe tbody tr th:only-of-type {\n",
       "        vertical-align: middle;\n",
       "    }\n",
       "\n",
       "    .dataframe tbody tr th {\n",
       "        vertical-align: top;\n",
       "    }\n",
       "\n",
       "    .dataframe thead th {\n",
       "        text-align: right;\n",
       "    }\n",
       "</style>\n",
       "<table border=\"1\" class=\"dataframe\">\n",
       "  <thead>\n",
       "    <tr style=\"text-align: right;\">\n",
       "      <th></th>\n",
       "      <th>Umur</th>\n",
       "      <th>Status Pernikahan</th>\n",
       "      <th>Jenis Kelamin</th>\n",
       "      <th>Kategori Berat Badan</th>\n",
       "      <th>Kolesterol</th>\n",
       "      <th>Pelatihan Pengelolaan Stress</th>\n",
       "      <th>Tingkat Stress</th>\n",
       "      <th>Serangan Jantung</th>\n",
       "    </tr>\n",
       "  </thead>\n",
       "  <tbody>\n",
       "    <tr>\n",
       "      <th>112</th>\n",
       "      <td>750.0</td>\n",
       "      <td>2.000000</td>\n",
       "      <td>1.0</td>\n",
       "      <td>2.0</td>\n",
       "      <td>143.0</td>\n",
       "      <td>1.0</td>\n",
       "      <td>80.0</td>\n",
       "      <td>Yes</td>\n",
       "    </tr>\n",
       "    <tr>\n",
       "      <th>122</th>\n",
       "      <td>730.0</td>\n",
       "      <td>1.698529</td>\n",
       "      <td>1.0</td>\n",
       "      <td>2.0</td>\n",
       "      <td>143.0</td>\n",
       "      <td>1.0</td>\n",
       "      <td>80.0</td>\n",
       "      <td>Yes</td>\n",
       "    </tr>\n",
       "  </tbody>\n",
       "</table>\n",
       "</div>"
      ],
      "text/plain": [
       "      Umur  Status Pernikahan  Jenis Kelamin  Kategori Berat Badan  \\\n",
       "112  750.0           2.000000            1.0                   2.0   \n",
       "122  730.0           1.698529            1.0                   2.0   \n",
       "\n",
       "     Kolesterol  Pelatihan Pengelolaan Stress  Tingkat Stress Serangan Jantung  \n",
       "112       143.0                           1.0            80.0              Yes  \n",
       "122       143.0                           1.0            80.0              Yes  "
      ]
     },
     "execution_count": 7,
     "metadata": {},
     "output_type": "execute_result"
    }
   ],
   "source": [
    "mean = df['Umur'].mean()\n",
    "std = df['Umur'].std()\n",
    "threshold = 3  # Ambil nilai 3 deviasi standar sebagai threshold\n",
    "noise = df[df['Umur'].abs() > (mean + threshold * std)]\n",
    "noise"
   ]
  },
  {
   "cell_type": "code",
   "execution_count": 8,
   "metadata": {},
   "outputs": [
    {
     "data": {
      "text/plain": [
       "(0.0, 800.0)"
      ]
     },
     "execution_count": 8,
     "metadata": {},
     "output_type": "execute_result"
    },
    {
     "data": {
      "image/png": "[encoded data removed]",
      "text/plain": [
       "<Figure size 640x480 with 1 Axes>"
      ]
     },
     "metadata": {},
     "output_type": "display_data"
    }
   ],
   "source": [
    "plt.boxplot(df[\"Umur\"])\n",
    "plt.ylim([0,800])"
   ]
  },
  {
   "cell_type": "code",
   "execution_count": 9,
   "metadata": {},
   "outputs": [
    {
     "data": {
      "text/html": [
       "<div>\n",
       "<style scoped>\n",
       "    .dataframe tbody tr th:only-of-type {\n",
       "        vertical-align: middle;\n",
       "    }\n",
       "\n",
       "    .dataframe tbody tr th {\n",
       "        vertical-align: top;\n",
       "    }\n",
       "\n",
       "    .dataframe thead th {\n",
       "        text-align: right;\n",
       "    }\n",
       "</style>\n",
       "<table border=\"1\" class=\"dataframe\">\n",
       "  <thead>\n",
       "    <tr style=\"text-align: right;\">\n",
       "      <th></th>\n",
       "      <th>Umur</th>\n",
       "      <th>Status Pernikahan</th>\n",
       "      <th>Jenis Kelamin</th>\n",
       "      <th>Kategori Berat Badan</th>\n",
       "      <th>Kolesterol</th>\n",
       "      <th>Pelatihan Pengelolaan Stress</th>\n",
       "      <th>Tingkat Stress</th>\n",
       "      <th>Serangan Jantung</th>\n",
       "    </tr>\n",
       "  </thead>\n",
       "  <tbody>\n",
       "    <tr>\n",
       "      <th>0</th>\n",
       "      <td>60.0</td>\n",
       "      <td>2.0</td>\n",
       "      <td>0.0</td>\n",
       "      <td>1.000000</td>\n",
       "      <td>150.0</td>\n",
       "      <td>1.0</td>\n",
       "      <td>50.0</td>\n",
       "      <td>Yes</td>\n",
       "    </tr>\n",
       "    <tr>\n",
       "      <th>1</th>\n",
       "      <td>69.0</td>\n",
       "      <td>2.0</td>\n",
       "      <td>1.0</td>\n",
       "      <td>1.000000</td>\n",
       "      <td>170.0</td>\n",
       "      <td>0.0</td>\n",
       "      <td>60.0</td>\n",
       "      <td>Yes</td>\n",
       "    </tr>\n",
       "    <tr>\n",
       "      <th>2</th>\n",
       "      <td>52.0</td>\n",
       "      <td>1.0</td>\n",
       "      <td>0.0</td>\n",
       "      <td>0.933824</td>\n",
       "      <td>174.0</td>\n",
       "      <td>1.0</td>\n",
       "      <td>35.0</td>\n",
       "      <td>No</td>\n",
       "    </tr>\n",
       "    <tr>\n",
       "      <th>3</th>\n",
       "      <td>66.0</td>\n",
       "      <td>2.0</td>\n",
       "      <td>1.0</td>\n",
       "      <td>1.000000</td>\n",
       "      <td>169.0</td>\n",
       "      <td>0.0</td>\n",
       "      <td>60.0</td>\n",
       "      <td>Yes</td>\n",
       "    </tr>\n",
       "    <tr>\n",
       "      <th>4</th>\n",
       "      <td>70.0</td>\n",
       "      <td>3.0</td>\n",
       "      <td>0.0</td>\n",
       "      <td>1.000000</td>\n",
       "      <td>237.0</td>\n",
       "      <td>0.0</td>\n",
       "      <td>65.0</td>\n",
       "      <td>Yes</td>\n",
       "    </tr>\n",
       "    <tr>\n",
       "      <th>...</th>\n",
       "      <td>...</td>\n",
       "      <td>...</td>\n",
       "      <td>...</td>\n",
       "      <td>...</td>\n",
       "      <td>...</td>\n",
       "      <td>...</td>\n",
       "      <td>...</td>\n",
       "      <td>...</td>\n",
       "    </tr>\n",
       "    <tr>\n",
       "      <th>133</th>\n",
       "      <td>54.0</td>\n",
       "      <td>1.0</td>\n",
       "      <td>0.0</td>\n",
       "      <td>0.000000</td>\n",
       "      <td>170.0</td>\n",
       "      <td>1.0</td>\n",
       "      <td>35.0</td>\n",
       "      <td>No</td>\n",
       "    </tr>\n",
       "    <tr>\n",
       "      <th>134</th>\n",
       "      <td>59.0</td>\n",
       "      <td>1.0</td>\n",
       "      <td>0.0</td>\n",
       "      <td>0.000000</td>\n",
       "      <td>172.0</td>\n",
       "      <td>0.0</td>\n",
       "      <td>60.0</td>\n",
       "      <td>No</td>\n",
       "    </tr>\n",
       "    <tr>\n",
       "      <th>135</th>\n",
       "      <td>55.0</td>\n",
       "      <td>3.0</td>\n",
       "      <td>0.0</td>\n",
       "      <td>0.000000</td>\n",
       "      <td>122.0</td>\n",
       "      <td>1.0</td>\n",
       "      <td>45.0</td>\n",
       "      <td>No</td>\n",
       "    </tr>\n",
       "    <tr>\n",
       "      <th>136</th>\n",
       "      <td>73.0</td>\n",
       "      <td>2.0</td>\n",
       "      <td>1.0</td>\n",
       "      <td>1.000000</td>\n",
       "      <td>236.0</td>\n",
       "      <td>0.0</td>\n",
       "      <td>60.0</td>\n",
       "      <td>Yes</td>\n",
       "    </tr>\n",
       "    <tr>\n",
       "      <th>137</th>\n",
       "      <td>62.0</td>\n",
       "      <td>3.0</td>\n",
       "      <td>0.0</td>\n",
       "      <td>0.933824</td>\n",
       "      <td>185.0</td>\n",
       "      <td>1.0</td>\n",
       "      <td>650.0</td>\n",
       "      <td>No</td>\n",
       "    </tr>\n",
       "  </tbody>\n",
       "</table>\n",
       "<p>136 rows × 8 columns</p>\n",
       "</div>"
      ],
      "text/plain": [
       "     Umur  Status Pernikahan  Jenis Kelamin  Kategori Berat Badan  Kolesterol  \\\n",
       "0    60.0                2.0            0.0              1.000000       150.0   \n",
       "1    69.0                2.0            1.0              1.000000       170.0   \n",
       "2    52.0                1.0            0.0              0.933824       174.0   \n",
       "3    66.0                2.0            1.0              1.000000       169.0   \n",
       "4    70.0                3.0            0.0              1.000000       237.0   \n",
       "..    ...                ...            ...                   ...         ...   \n",
       "133  54.0                1.0            0.0              0.000000       170.0   \n",
       "134  59.0                1.0            0.0              0.000000       172.0   \n",
       "135  55.0                3.0            0.0              0.000000       122.0   \n",
       "136  73.0                2.0            1.0              1.000000       236.0   \n",
       "137  62.0                3.0            0.0              0.933824       185.0   \n",
       "\n",
       "     Pelatihan Pengelolaan Stress  Tingkat Stress Serangan Jantung  \n",
       "0                             1.0            50.0              Yes  \n",
       "1                             0.0            60.0              Yes  \n",
       "2                             1.0            35.0               No  \n",
       "3                             0.0            60.0              Yes  \n",
       "4                             0.0            65.0              Yes  \n",
       "..                            ...             ...              ...  \n",
       "133                           1.0            35.0               No  \n",
       "134                           0.0            60.0               No  \n",
       "135                           1.0            45.0               No  \n",
       "136                           0.0            60.0              Yes  \n",
       "137                           1.0           650.0               No  \n",
       "\n",
       "[136 rows x 8 columns]"
      ]
     },
     "execution_count": 9,
     "metadata": {},
     "output_type": "execute_result"
    }
   ],
   "source": [
    "remove_noise1 = df.drop(df[df['Umur'].abs() > (mean + threshold * std)].index)\n",
    "remove_noise1"
   ]
  },
  {
   "cell_type": "code",
   "execution_count": 10,
   "metadata": {},
   "outputs": [
    {
     "data": {
      "text/html": [
       "<div>\n",
       "<style scoped>\n",
       "    .dataframe tbody tr th:only-of-type {\n",
       "        vertical-align: middle;\n",
       "    }\n",
       "\n",
       "    .dataframe tbody tr th {\n",
       "        vertical-align: top;\n",
       "    }\n",
       "\n",
       "    .dataframe thead th {\n",
       "        text-align: right;\n",
       "    }\n",
       "</style>\n",
       "<table border=\"1\" class=\"dataframe\">\n",
       "  <thead>\n",
       "    <tr style=\"text-align: right;\">\n",
       "      <th></th>\n",
       "      <th>Umur</th>\n",
       "      <th>Status Pernikahan</th>\n",
       "      <th>Jenis Kelamin</th>\n",
       "      <th>Kategori Berat Badan</th>\n",
       "      <th>Kolesterol</th>\n",
       "      <th>Pelatihan Pengelolaan Stress</th>\n",
       "      <th>Tingkat Stress</th>\n",
       "      <th>Serangan Jantung</th>\n",
       "    </tr>\n",
       "  </thead>\n",
       "  <tbody>\n",
       "  </tbody>\n",
       "</table>\n",
       "</div>"
      ],
      "text/plain": [
       "Empty DataFrame\n",
       "Columns: [Umur, Status Pernikahan, Jenis Kelamin, Kategori Berat Badan, Kolesterol, Pelatihan Pengelolaan Stress, Tingkat Stress, Serangan Jantung]\n",
       "Index: []"
      ]
     },
     "execution_count": 10,
     "metadata": {},
     "output_type": "execute_result"
    }
   ],
   "source": [
    "mean = remove_noise1['Status Pernikahan'].mean()\n",
    "std = remove_noise1['Status Pernikahan'].std()\n",
    "threshold = 3  # Ambil nilai 3 deviasi standar sebagai threshold\n",
    "noise = remove_noise1[remove_noise1['Status Pernikahan'].abs() > (mean + threshold * std)]\n",
    "noise"
   ]
  },
  {
   "cell_type": "code",
   "execution_count": 11,
   "metadata": {},
   "outputs": [
    {
     "data": {
      "text/html": [
       "<div>\n",
       "<style scoped>\n",
       "    .dataframe tbody tr th:only-of-type {\n",
       "        vertical-align: middle;\n",
       "    }\n",
       "\n",
       "    .dataframe tbody tr th {\n",
       "        vertical-align: top;\n",
       "    }\n",
       "\n",
       "    .dataframe thead th {\n",
       "        text-align: right;\n",
       "    }\n",
       "</style>\n",
       "<table border=\"1\" class=\"dataframe\">\n",
       "  <thead>\n",
       "    <tr style=\"text-align: right;\">\n",
       "      <th></th>\n",
       "      <th>Umur</th>\n",
       "      <th>Status Pernikahan</th>\n",
       "      <th>Jenis Kelamin</th>\n",
       "      <th>Kategori Berat Badan</th>\n",
       "      <th>Kolesterol</th>\n",
       "      <th>Pelatihan Pengelolaan Stress</th>\n",
       "      <th>Tingkat Stress</th>\n",
       "      <th>Serangan Jantung</th>\n",
       "    </tr>\n",
       "  </thead>\n",
       "  <tbody>\n",
       "  </tbody>\n",
       "</table>\n",
       "</div>"
      ],
      "text/plain": [
       "Empty DataFrame\n",
       "Columns: [Umur, Status Pernikahan, Jenis Kelamin, Kategori Berat Badan, Kolesterol, Pelatihan Pengelolaan Stress, Tingkat Stress, Serangan Jantung]\n",
       "Index: []"
      ]
     },
     "execution_count": 11,
     "metadata": {},
     "output_type": "execute_result"
    }
   ],
   "source": [
    "mean = remove_noise1['Jenis Kelamin'].mean()\n",
    "std = remove_noise1['Jenis Kelamin'].std()\n",
    "threshold = 3  # Ambil nilai 3 deviasi standar sebagai threshold\n",
    "noise = remove_noise1[remove_noise1['Jenis Kelamin'].abs() > (mean + threshold * std)]\n",
    "noise"
   ]
  },
  {
   "cell_type": "code",
   "execution_count": 12,
   "metadata": {},
   "outputs": [
    {
     "data": {
      "text/html": [
       "<div>\n",
       "<style scoped>\n",
       "    .dataframe tbody tr th:only-of-type {\n",
       "        vertical-align: middle;\n",
       "    }\n",
       "\n",
       "    .dataframe tbody tr th {\n",
       "        vertical-align: top;\n",
       "    }\n",
       "\n",
       "    .dataframe thead th {\n",
       "        text-align: right;\n",
       "    }\n",
       "</style>\n",
       "<table border=\"1\" class=\"dataframe\">\n",
       "  <thead>\n",
       "    <tr style=\"text-align: right;\">\n",
       "      <th></th>\n",
       "      <th>Umur</th>\n",
       "      <th>Status Pernikahan</th>\n",
       "      <th>Jenis Kelamin</th>\n",
       "      <th>Kategori Berat Badan</th>\n",
       "      <th>Kolesterol</th>\n",
       "      <th>Pelatihan Pengelolaan Stress</th>\n",
       "      <th>Tingkat Stress</th>\n",
       "      <th>Serangan Jantung</th>\n",
       "    </tr>\n",
       "  </thead>\n",
       "  <tbody>\n",
       "  </tbody>\n",
       "</table>\n",
       "</div>"
      ],
      "text/plain": [
       "Empty DataFrame\n",
       "Columns: [Umur, Status Pernikahan, Jenis Kelamin, Kategori Berat Badan, Kolesterol, Pelatihan Pengelolaan Stress, Tingkat Stress, Serangan Jantung]\n",
       "Index: []"
      ]
     },
     "execution_count": 12,
     "metadata": {},
     "output_type": "execute_result"
    }
   ],
   "source": [
    "mean = remove_noise1['Kategori Berat Badan'].mean()\n",
    "std = remove_noise1['Kategori Berat Badan'].std()\n",
    "threshold = 3  # Ambil nilai 3 deviasi standar sebagai threshold\n",
    "noise = remove_noise1[remove_noise1['Kategori Berat Badan'].abs() > (mean + threshold * std)]\n",
    "noise"
   ]
  },
  {
   "cell_type": "code",
   "execution_count": 13,
   "metadata": {},
   "outputs": [
    {
     "data": {
      "text/html": [
       "<div>\n",
       "<style scoped>\n",
       "    .dataframe tbody tr th:only-of-type {\n",
       "        vertical-align: middle;\n",
       "    }\n",
       "\n",
       "    .dataframe tbody tr th {\n",
       "        vertical-align: top;\n",
       "    }\n",
       "\n",
       "    .dataframe thead th {\n",
       "        text-align: right;\n",
       "    }\n",
       "</style>\n",
       "<table border=\"1\" class=\"dataframe\">\n",
       "  <thead>\n",
       "    <tr style=\"text-align: right;\">\n",
       "      <th></th>\n",
       "      <th>Umur</th>\n",
       "      <th>Status Pernikahan</th>\n",
       "      <th>Jenis Kelamin</th>\n",
       "      <th>Kategori Berat Badan</th>\n",
       "      <th>Kolesterol</th>\n",
       "      <th>Pelatihan Pengelolaan Stress</th>\n",
       "      <th>Tingkat Stress</th>\n",
       "      <th>Serangan Jantung</th>\n",
       "    </tr>\n",
       "  </thead>\n",
       "  <tbody>\n",
       "    <tr>\n",
       "      <th>8</th>\n",
       "      <td>60.0</td>\n",
       "      <td>2.0</td>\n",
       "      <td>0.0</td>\n",
       "      <td>0.0</td>\n",
       "      <td>1430.0</td>\n",
       "      <td>0.0</td>\n",
       "      <td>45.0</td>\n",
       "      <td>No</td>\n",
       "    </tr>\n",
       "    <tr>\n",
       "      <th>128</th>\n",
       "      <td>61.0</td>\n",
       "      <td>2.0</td>\n",
       "      <td>0.0</td>\n",
       "      <td>1.0</td>\n",
       "      <td>1438.0</td>\n",
       "      <td>1.0</td>\n",
       "      <td>50.0</td>\n",
       "      <td>Yes</td>\n",
       "    </tr>\n",
       "  </tbody>\n",
       "</table>\n",
       "</div>"
      ],
      "text/plain": [
       "     Umur  Status Pernikahan  Jenis Kelamin  Kategori Berat Badan  Kolesterol  \\\n",
       "8    60.0                2.0            0.0                   0.0      1430.0   \n",
       "128  61.0                2.0            0.0                   1.0      1438.0   \n",
       "\n",
       "     Pelatihan Pengelolaan Stress  Tingkat Stress Serangan Jantung  \n",
       "8                             0.0            45.0               No  \n",
       "128                           1.0            50.0              Yes  "
      ]
     },
     "execution_count": 13,
     "metadata": {},
     "output_type": "execute_result"
    }
   ],
   "source": [
    "mean = remove_noise1['Kolesterol'].mean()\n",
    "std = remove_noise1['Kolesterol'].std()\n",
    "threshold = 3  # Ambil nilai 3 deviasi standar sebagai threshold\n",
    "noise = remove_noise1[remove_noise1['Kolesterol'].abs() > (mean + threshold * std)]\n",
    "noise"
   ]
  },
  {
   "cell_type": "code",
   "execution_count": 14,
   "metadata": {},
   "outputs": [
    {
     "data": {
      "text/plain": [
       "(0.0, 1500.0)"
      ]
     },
     "execution_count": 14,
     "metadata": {},
     "output_type": "execute_result"
    },
    {
     "data": {
      "image/png": "[encoded data removed]",
      "text/plain": [
       "<Figure size 640x480 with 1 Axes>"
      ]
     },
     "metadata": {},
     "output_type": "display_data"
    }
   ],
   "source": [
    "plt.boxplot(remove_noise1[\"Kolesterol\"])\n",
    "plt.ylim([0,1500])"
   ]
  },
  {
   "cell_type": "code",
   "execution_count": 15,
   "metadata": {},
   "outputs": [
    {
     "data": {
      "text/html": [
       "<div>\n",
       "<style scoped>\n",
       "    .dataframe tbody tr th:only-of-type {\n",
       "        vertical-align: middle;\n",
       "    }\n",
       "\n",
       "    .dataframe tbody tr th {\n",
       "        vertical-align: top;\n",
       "    }\n",
       "\n",
       "    .dataframe thead th {\n",
       "        text-align: right;\n",
       "    }\n",
       "</style>\n",
       "<table border=\"1\" class=\"dataframe\">\n",
       "  <thead>\n",
       "    <tr style=\"text-align: right;\">\n",
       "      <th></th>\n",
       "      <th>Umur</th>\n",
       "      <th>Status Pernikahan</th>\n",
       "      <th>Jenis Kelamin</th>\n",
       "      <th>Kategori Berat Badan</th>\n",
       "      <th>Kolesterol</th>\n",
       "      <th>Pelatihan Pengelolaan Stress</th>\n",
       "      <th>Tingkat Stress</th>\n",
       "      <th>Serangan Jantung</th>\n",
       "    </tr>\n",
       "  </thead>\n",
       "  <tbody>\n",
       "    <tr>\n",
       "      <th>0</th>\n",
       "      <td>60.0</td>\n",
       "      <td>2.0</td>\n",
       "      <td>0.0</td>\n",
       "      <td>1.000000</td>\n",
       "      <td>150.0</td>\n",
       "      <td>1.0</td>\n",
       "      <td>50.0</td>\n",
       "      <td>Yes</td>\n",
       "    </tr>\n",
       "    <tr>\n",
       "      <th>1</th>\n",
       "      <td>69.0</td>\n",
       "      <td>2.0</td>\n",
       "      <td>1.0</td>\n",
       "      <td>1.000000</td>\n",
       "      <td>170.0</td>\n",
       "      <td>0.0</td>\n",
       "      <td>60.0</td>\n",
       "      <td>Yes</td>\n",
       "    </tr>\n",
       "    <tr>\n",
       "      <th>2</th>\n",
       "      <td>52.0</td>\n",
       "      <td>1.0</td>\n",
       "      <td>0.0</td>\n",
       "      <td>0.933824</td>\n",
       "      <td>174.0</td>\n",
       "      <td>1.0</td>\n",
       "      <td>35.0</td>\n",
       "      <td>No</td>\n",
       "    </tr>\n",
       "    <tr>\n",
       "      <th>3</th>\n",
       "      <td>66.0</td>\n",
       "      <td>2.0</td>\n",
       "      <td>1.0</td>\n",
       "      <td>1.000000</td>\n",
       "      <td>169.0</td>\n",
       "      <td>0.0</td>\n",
       "      <td>60.0</td>\n",
       "      <td>Yes</td>\n",
       "    </tr>\n",
       "    <tr>\n",
       "      <th>4</th>\n",
       "      <td>70.0</td>\n",
       "      <td>3.0</td>\n",
       "      <td>0.0</td>\n",
       "      <td>1.000000</td>\n",
       "      <td>237.0</td>\n",
       "      <td>0.0</td>\n",
       "      <td>65.0</td>\n",
       "      <td>Yes</td>\n",
       "    </tr>\n",
       "    <tr>\n",
       "      <th>...</th>\n",
       "      <td>...</td>\n",
       "      <td>...</td>\n",
       "      <td>...</td>\n",
       "      <td>...</td>\n",
       "      <td>...</td>\n",
       "      <td>...</td>\n",
       "      <td>...</td>\n",
       "      <td>...</td>\n",
       "    </tr>\n",
       "    <tr>\n",
       "      <th>133</th>\n",
       "      <td>54.0</td>\n",
       "      <td>1.0</td>\n",
       "      <td>0.0</td>\n",
       "      <td>0.000000</td>\n",
       "      <td>170.0</td>\n",
       "      <td>1.0</td>\n",
       "      <td>35.0</td>\n",
       "      <td>No</td>\n",
       "    </tr>\n",
       "    <tr>\n",
       "      <th>134</th>\n",
       "      <td>59.0</td>\n",
       "      <td>1.0</td>\n",
       "      <td>0.0</td>\n",
       "      <td>0.000000</td>\n",
       "      <td>172.0</td>\n",
       "      <td>0.0</td>\n",
       "      <td>60.0</td>\n",
       "      <td>No</td>\n",
       "    </tr>\n",
       "    <tr>\n",
       "      <th>135</th>\n",
       "      <td>55.0</td>\n",
       "      <td>3.0</td>\n",
       "      <td>0.0</td>\n",
       "      <td>0.000000</td>\n",
       "      <td>122.0</td>\n",
       "      <td>1.0</td>\n",
       "      <td>45.0</td>\n",
       "      <td>No</td>\n",
       "    </tr>\n",
       "    <tr>\n",
       "      <th>136</th>\n",
       "      <td>73.0</td>\n",
       "      <td>2.0</td>\n",
       "      <td>1.0</td>\n",
       "      <td>1.000000</td>\n",
       "      <td>236.0</td>\n",
       "      <td>0.0</td>\n",
       "      <td>60.0</td>\n",
       "      <td>Yes</td>\n",
       "    </tr>\n",
       "    <tr>\n",
       "      <th>137</th>\n",
       "      <td>62.0</td>\n",
       "      <td>3.0</td>\n",
       "      <td>0.0</td>\n",
       "      <td>0.933824</td>\n",
       "      <td>185.0</td>\n",
       "      <td>1.0</td>\n",
       "      <td>650.0</td>\n",
       "      <td>No</td>\n",
       "    </tr>\n",
       "  </tbody>\n",
       "</table>\n",
       "<p>134 rows × 8 columns</p>\n",
       "</div>"
      ],
      "text/plain": [
       "     Umur  Status Pernikahan  Jenis Kelamin  Kategori Berat Badan  Kolesterol  \\\n",
       "0    60.0                2.0            0.0              1.000000       150.0   \n",
       "1    69.0                2.0            1.0              1.000000       170.0   \n",
       "2    52.0                1.0            0.0              0.933824       174.0   \n",
       "3    66.0                2.0            1.0              1.000000       169.0   \n",
       "4    70.0                3.0            0.0              1.000000       237.0   \n",
       "..    ...                ...            ...                   ...         ...   \n",
       "133  54.0                1.0            0.0              0.000000       170.0   \n",
       "134  59.0                1.0            0.0              0.000000       172.0   \n",
       "135  55.0                3.0            0.0              0.000000       122.0   \n",
       "136  73.0                2.0            1.0              1.000000       236.0   \n",
       "137  62.0                3.0            0.0              0.933824       185.0   \n",
       "\n",
       "     Pelatihan Pengelolaan Stress  Tingkat Stress Serangan Jantung  \n",
       "0                             1.0            50.0              Yes  \n",
       "1                             0.0            60.0              Yes  \n",
       "2                             1.0            35.0               No  \n",
       "3                             0.0            60.0              Yes  \n",
       "4                             0.0            65.0              Yes  \n",
       "..                            ...             ...              ...  \n",
       "133                           1.0            35.0               No  \n",
       "134                           0.0            60.0               No  \n",
       "135                           1.0            45.0               No  \n",
       "136                           0.0            60.0              Yes  \n",
       "137                           1.0           650.0               No  \n",
       "\n",
       "[134 rows x 8 columns]"
      ]
     },
     "execution_count": 15,
     "metadata": {},
     "output_type": "execute_result"
    }
   ],
   "source": [
    "remove_noise2 = remove_noise1.drop(remove_noise1[remove_noise1['Kolesterol'].abs() > (mean + threshold * std)].index)\n",
    "remove_noise2"
   ]
  },
  {
   "cell_type": "code",
   "execution_count": 16,
   "metadata": {},
   "outputs": [
    {
     "data": {
      "text/html": [
       "<div>\n",
       "<style scoped>\n",
       "    .dataframe tbody tr th:only-of-type {\n",
       "        vertical-align: middle;\n",
       "    }\n",
       "\n",
       "    .dataframe tbody tr th {\n",
       "        vertical-align: top;\n",
       "    }\n",
       "\n",
       "    .dataframe thead th {\n",
       "        text-align: right;\n",
       "    }\n",
       "</style>\n",
       "<table border=\"1\" class=\"dataframe\">\n",
       "  <thead>\n",
       "    <tr style=\"text-align: right;\">\n",
       "      <th></th>\n",
       "      <th>Umur</th>\n",
       "      <th>Status Pernikahan</th>\n",
       "      <th>Jenis Kelamin</th>\n",
       "      <th>Kategori Berat Badan</th>\n",
       "      <th>Kolesterol</th>\n",
       "      <th>Pelatihan Pengelolaan Stress</th>\n",
       "      <th>Tingkat Stress</th>\n",
       "      <th>Serangan Jantung</th>\n",
       "    </tr>\n",
       "  </thead>\n",
       "  <tbody>\n",
       "  </tbody>\n",
       "</table>\n",
       "</div>"
      ],
      "text/plain": [
       "Empty DataFrame\n",
       "Columns: [Umur, Status Pernikahan, Jenis Kelamin, Kategori Berat Badan, Kolesterol, Pelatihan Pengelolaan Stress, Tingkat Stress, Serangan Jantung]\n",
       "Index: []"
      ]
     },
     "execution_count": 16,
     "metadata": {},
     "output_type": "execute_result"
    }
   ],
   "source": [
    "mean = remove_noise2['Pelatihan Pengelolaan Stress'].mean()\n",
    "std = remove_noise2['Pelatihan Pengelolaan Stress'].std()\n",
    "threshold = 3  # Ambil nilai 3 deviasi standar sebagai threshold\n",
    "noise = remove_noise2[remove_noise2['Pelatihan Pengelolaan Stress'].abs() > (mean + threshold * std)]\n",
    "noise"
   ]
  },
  {
   "cell_type": "code",
   "execution_count": 17,
   "metadata": {},
   "outputs": [
    {
     "data": {
      "text/html": [
       "<div>\n",
       "<style scoped>\n",
       "    .dataframe tbody tr th:only-of-type {\n",
       "        vertical-align: middle;\n",
       "    }\n",
       "\n",
       "    .dataframe tbody tr th {\n",
       "        vertical-align: top;\n",
       "    }\n",
       "\n",
       "    .dataframe thead th {\n",
       "        text-align: right;\n",
       "    }\n",
       "</style>\n",
       "<table border=\"1\" class=\"dataframe\">\n",
       "  <thead>\n",
       "    <tr style=\"text-align: right;\">\n",
       "      <th></th>\n",
       "      <th>Umur</th>\n",
       "      <th>Status Pernikahan</th>\n",
       "      <th>Jenis Kelamin</th>\n",
       "      <th>Kategori Berat Badan</th>\n",
       "      <th>Kolesterol</th>\n",
       "      <th>Pelatihan Pengelolaan Stress</th>\n",
       "      <th>Tingkat Stress</th>\n",
       "      <th>Serangan Jantung</th>\n",
       "    </tr>\n",
       "  </thead>\n",
       "  <tbody>\n",
       "    <tr>\n",
       "      <th>9</th>\n",
       "      <td>51.0</td>\n",
       "      <td>1.0</td>\n",
       "      <td>1.0</td>\n",
       "      <td>0.000000</td>\n",
       "      <td>143.0</td>\n",
       "      <td>1.0</td>\n",
       "      <td>400.0</td>\n",
       "      <td>No</td>\n",
       "    </tr>\n",
       "    <tr>\n",
       "      <th>137</th>\n",
       "      <td>62.0</td>\n",
       "      <td>3.0</td>\n",
       "      <td>0.0</td>\n",
       "      <td>0.933824</td>\n",
       "      <td>185.0</td>\n",
       "      <td>1.0</td>\n",
       "      <td>650.0</td>\n",
       "      <td>No</td>\n",
       "    </tr>\n",
       "  </tbody>\n",
       "</table>\n",
       "</div>"
      ],
      "text/plain": [
       "     Umur  Status Pernikahan  Jenis Kelamin  Kategori Berat Badan  Kolesterol  \\\n",
       "9    51.0                1.0            1.0              0.000000       143.0   \n",
       "137  62.0                3.0            0.0              0.933824       185.0   \n",
       "\n",
       "     Pelatihan Pengelolaan Stress  Tingkat Stress Serangan Jantung  \n",
       "9                             1.0           400.0               No  \n",
       "137                           1.0           650.0               No  "
      ]
     },
     "execution_count": 17,
     "metadata": {},
     "output_type": "execute_result"
    }
   ],
   "source": [
    "mean = remove_noise2['Tingkat Stress'].mean()\n",
    "std = remove_noise2['Tingkat Stress'].std()\n",
    "threshold = 3  # Ambil nilai 3 deviasi standar sebagai threshold\n",
    "noise = remove_noise2[remove_noise2['Tingkat Stress'].abs() > (mean + threshold * std)]\n",
    "noise"
   ]
  },
  {
   "cell_type": "code",
   "execution_count": 18,
   "metadata": {},
   "outputs": [
    {
     "data": {
      "text/plain": [
       "(0.0, 700.0)"
      ]
     },
     "execution_count": 18,
     "metadata": {},
     "output_type": "execute_result"
    },
    {
     "data": {
      "image/png": "[encoded data removed]",
      "text/plain": [
       "<Figure size 640x480 with 1 Axes>"
      ]
     },
     "metadata": {},
     "output_type": "display_data"
    }
   ],
   "source": [
    "plt.boxplot(remove_noise2[\"Tingkat Stress\"])\n",
    "plt.ylim([0,700])"
   ]
  },
  {
   "cell_type": "code",
   "execution_count": 19,
   "metadata": {},
   "outputs": [
    {
     "data": {
      "text/html": [
       "<div>\n",
       "<style scoped>\n",
       "    .dataframe tbody tr th:only-of-type {\n",
       "        vertical-align: middle;\n",
       "    }\n",
       "\n",
       "    .dataframe tbody tr th {\n",
       "        vertical-align: top;\n",
       "    }\n",
       "\n",
       "    .dataframe thead th {\n",
       "        text-align: right;\n",
       "    }\n",
       "</style>\n",
       "<table border=\"1\" class=\"dataframe\">\n",
       "  <thead>\n",
       "    <tr style=\"text-align: right;\">\n",
       "      <th></th>\n",
       "      <th>Umur</th>\n",
       "      <th>Status Pernikahan</th>\n",
       "      <th>Jenis Kelamin</th>\n",
       "      <th>Kategori Berat Badan</th>\n",
       "      <th>Kolesterol</th>\n",
       "      <th>Pelatihan Pengelolaan Stress</th>\n",
       "      <th>Tingkat Stress</th>\n",
       "      <th>Serangan Jantung</th>\n",
       "    </tr>\n",
       "  </thead>\n",
       "  <tbody>\n",
       "    <tr>\n",
       "      <th>0</th>\n",
       "      <td>60.0</td>\n",
       "      <td>2.0</td>\n",
       "      <td>0.0</td>\n",
       "      <td>1.000000</td>\n",
       "      <td>150.0</td>\n",
       "      <td>1.0</td>\n",
       "      <td>50.0</td>\n",
       "      <td>Yes</td>\n",
       "    </tr>\n",
       "    <tr>\n",
       "      <th>1</th>\n",
       "      <td>69.0</td>\n",
       "      <td>2.0</td>\n",
       "      <td>1.0</td>\n",
       "      <td>1.000000</td>\n",
       "      <td>170.0</td>\n",
       "      <td>0.0</td>\n",
       "      <td>60.0</td>\n",
       "      <td>Yes</td>\n",
       "    </tr>\n",
       "    <tr>\n",
       "      <th>2</th>\n",
       "      <td>52.0</td>\n",
       "      <td>1.0</td>\n",
       "      <td>0.0</td>\n",
       "      <td>0.933824</td>\n",
       "      <td>174.0</td>\n",
       "      <td>1.0</td>\n",
       "      <td>35.0</td>\n",
       "      <td>No</td>\n",
       "    </tr>\n",
       "    <tr>\n",
       "      <th>3</th>\n",
       "      <td>66.0</td>\n",
       "      <td>2.0</td>\n",
       "      <td>1.0</td>\n",
       "      <td>1.000000</td>\n",
       "      <td>169.0</td>\n",
       "      <td>0.0</td>\n",
       "      <td>60.0</td>\n",
       "      <td>Yes</td>\n",
       "    </tr>\n",
       "    <tr>\n",
       "      <th>4</th>\n",
       "      <td>70.0</td>\n",
       "      <td>3.0</td>\n",
       "      <td>0.0</td>\n",
       "      <td>1.000000</td>\n",
       "      <td>237.0</td>\n",
       "      <td>0.0</td>\n",
       "      <td>65.0</td>\n",
       "      <td>Yes</td>\n",
       "    </tr>\n",
       "    <tr>\n",
       "      <th>...</th>\n",
       "      <td>...</td>\n",
       "      <td>...</td>\n",
       "      <td>...</td>\n",
       "      <td>...</td>\n",
       "      <td>...</td>\n",
       "      <td>...</td>\n",
       "      <td>...</td>\n",
       "      <td>...</td>\n",
       "    </tr>\n",
       "    <tr>\n",
       "      <th>132</th>\n",
       "      <td>80.0</td>\n",
       "      <td>3.0</td>\n",
       "      <td>1.0</td>\n",
       "      <td>1.000000</td>\n",
       "      <td>222.0</td>\n",
       "      <td>0.0</td>\n",
       "      <td>80.0</td>\n",
       "      <td>Yes</td>\n",
       "    </tr>\n",
       "    <tr>\n",
       "      <th>133</th>\n",
       "      <td>54.0</td>\n",
       "      <td>1.0</td>\n",
       "      <td>0.0</td>\n",
       "      <td>0.000000</td>\n",
       "      <td>170.0</td>\n",
       "      <td>1.0</td>\n",
       "      <td>35.0</td>\n",
       "      <td>No</td>\n",
       "    </tr>\n",
       "    <tr>\n",
       "      <th>134</th>\n",
       "      <td>59.0</td>\n",
       "      <td>1.0</td>\n",
       "      <td>0.0</td>\n",
       "      <td>0.000000</td>\n",
       "      <td>172.0</td>\n",
       "      <td>0.0</td>\n",
       "      <td>60.0</td>\n",
       "      <td>No</td>\n",
       "    </tr>\n",
       "    <tr>\n",
       "      <th>135</th>\n",
       "      <td>55.0</td>\n",
       "      <td>3.0</td>\n",
       "      <td>0.0</td>\n",
       "      <td>0.000000</td>\n",
       "      <td>122.0</td>\n",
       "      <td>1.0</td>\n",
       "      <td>45.0</td>\n",
       "      <td>No</td>\n",
       "    </tr>\n",
       "    <tr>\n",
       "      <th>136</th>\n",
       "      <td>73.0</td>\n",
       "      <td>2.0</td>\n",
       "      <td>1.0</td>\n",
       "      <td>1.000000</td>\n",
       "      <td>236.0</td>\n",
       "      <td>0.0</td>\n",
       "      <td>60.0</td>\n",
       "      <td>Yes</td>\n",
       "    </tr>\n",
       "  </tbody>\n",
       "</table>\n",
       "<p>132 rows × 8 columns</p>\n",
       "</div>"
      ],
      "text/plain": [
       "     Umur  Status Pernikahan  Jenis Kelamin  Kategori Berat Badan  Kolesterol  \\\n",
       "0    60.0                2.0            0.0              1.000000       150.0   \n",
       "1    69.0                2.0            1.0              1.000000       170.0   \n",
       "2    52.0                1.0            0.0              0.933824       174.0   \n",
       "3    66.0                2.0            1.0              1.000000       169.0   \n",
       "4    70.0                3.0            0.0              1.000000       237.0   \n",
       "..    ...                ...            ...                   ...         ...   \n",
       "132  80.0                3.0            1.0              1.000000       222.0   \n",
       "133  54.0                1.0            0.0              0.000000       170.0   \n",
       "134  59.0                1.0            0.0              0.000000       172.0   \n",
       "135  55.0                3.0            0.0              0.000000       122.0   \n",
       "136  73.0                2.0            1.0              1.000000       236.0   \n",
       "\n",
       "     Pelatihan Pengelolaan Stress  Tingkat Stress Serangan Jantung  \n",
       "0                             1.0            50.0              Yes  \n",
       "1                             0.0            60.0              Yes  \n",
       "2                             1.0            35.0               No  \n",
       "3                             0.0            60.0              Yes  \n",
       "4                             0.0            65.0              Yes  \n",
       "..                            ...             ...              ...  \n",
       "132                           0.0            80.0              Yes  \n",
       "133                           1.0            35.0               No  \n",
       "134                           0.0            60.0               No  \n",
       "135                           1.0            45.0               No  \n",
       "136                           0.0            60.0              Yes  \n",
       "\n",
       "[132 rows x 8 columns]"
      ]
     },
     "execution_count": 19,
     "metadata": {},
     "output_type": "execute_result"
    }
   ],
   "source": [
    "remove_noise3 = remove_noise2.drop(remove_noise2[remove_noise2['Tingkat Stress'].abs() > (mean + threshold * std)].index)\n",
    "remove_noise3"
   ]
  },
  {
   "cell_type": "code",
   "execution_count": 20,
   "metadata": {},
   "outputs": [],
   "source": [
    "remove_noise3.to_csv(\"SeranganJantungPreprocessing.csv\")"
   ]
  },
  {
   "cell_type": "code",
   "execution_count": 21,
   "metadata": {},
   "outputs": [
    {
     "data": {
      "text/html": [
       "<div>\n",
       "<style scoped>\n",
       "    .dataframe tbody tr th:only-of-type {\n",
       "        vertical-align: middle;\n",
       "    }\n",
       "\n",
       "    .dataframe tbody tr th {\n",
       "        vertical-align: top;\n",
       "    }\n",
       "\n",
       "    .dataframe thead th {\n",
       "        text-align: right;\n",
       "    }\n",
       "</style>\n",
       "<table border=\"1\" class=\"dataframe\">\n",
       "  <thead>\n",
       "    <tr style=\"text-align: right;\">\n",
       "      <th></th>\n",
       "      <th>Umur</th>\n",
       "      <th>Status Pernikahan</th>\n",
       "      <th>Jenis Kelamin</th>\n",
       "      <th>Kategori Berat Badan</th>\n",
       "      <th>Kolesterol</th>\n",
       "      <th>Pelatihan Pengelolaan Stress</th>\n",
       "      <th>Tingkat Stress</th>\n",
       "      <th>Serangan Jantung</th>\n",
       "    </tr>\n",
       "  </thead>\n",
       "  <tbody>\n",
       "    <tr>\n",
       "      <th>0</th>\n",
       "      <td>60.000000</td>\n",
       "      <td>2.0</td>\n",
       "      <td>0.0</td>\n",
       "      <td>1.000000</td>\n",
       "      <td>150.0</td>\n",
       "      <td>1.0</td>\n",
       "      <td>50.0</td>\n",
       "      <td>Yes</td>\n",
       "    </tr>\n",
       "    <tr>\n",
       "      <th>1</th>\n",
       "      <td>69.000000</td>\n",
       "      <td>2.0</td>\n",
       "      <td>1.0</td>\n",
       "      <td>1.000000</td>\n",
       "      <td>170.0</td>\n",
       "      <td>0.0</td>\n",
       "      <td>60.0</td>\n",
       "      <td>Yes</td>\n",
       "    </tr>\n",
       "    <tr>\n",
       "      <th>2</th>\n",
       "      <td>52.000000</td>\n",
       "      <td>1.0</td>\n",
       "      <td>0.0</td>\n",
       "      <td>0.933824</td>\n",
       "      <td>174.0</td>\n",
       "      <td>1.0</td>\n",
       "      <td>35.0</td>\n",
       "      <td>No</td>\n",
       "    </tr>\n",
       "    <tr>\n",
       "      <th>3</th>\n",
       "      <td>66.000000</td>\n",
       "      <td>2.0</td>\n",
       "      <td>1.0</td>\n",
       "      <td>1.000000</td>\n",
       "      <td>169.0</td>\n",
       "      <td>0.0</td>\n",
       "      <td>60.0</td>\n",
       "      <td>Yes</td>\n",
       "    </tr>\n",
       "    <tr>\n",
       "      <th>4</th>\n",
       "      <td>70.000000</td>\n",
       "      <td>3.0</td>\n",
       "      <td>0.0</td>\n",
       "      <td>1.000000</td>\n",
       "      <td>237.0</td>\n",
       "      <td>0.0</td>\n",
       "      <td>65.0</td>\n",
       "      <td>Yes</td>\n",
       "    </tr>\n",
       "    <tr>\n",
       "      <th>5</th>\n",
       "      <td>72.940741</td>\n",
       "      <td>1.0</td>\n",
       "      <td>0.0</td>\n",
       "      <td>0.000000</td>\n",
       "      <td>174.0</td>\n",
       "      <td>1.0</td>\n",
       "      <td>35.0</td>\n",
       "      <td>No</td>\n",
       "    </tr>\n",
       "    <tr>\n",
       "      <th>6</th>\n",
       "      <td>58.000000</td>\n",
       "      <td>2.0</td>\n",
       "      <td>1.0</td>\n",
       "      <td>0.000000</td>\n",
       "      <td>140.0</td>\n",
       "      <td>0.0</td>\n",
       "      <td>45.0</td>\n",
       "      <td>No</td>\n",
       "    </tr>\n",
       "    <tr>\n",
       "      <th>7</th>\n",
       "      <td>59.000000</td>\n",
       "      <td>2.0</td>\n",
       "      <td>1.0</td>\n",
       "      <td>0.000000</td>\n",
       "      <td>143.0</td>\n",
       "      <td>0.0</td>\n",
       "      <td>45.0</td>\n",
       "      <td>Yes</td>\n",
       "    </tr>\n",
       "    <tr>\n",
       "      <th>10</th>\n",
       "      <td>52.000000</td>\n",
       "      <td>1.0</td>\n",
       "      <td>0.0</td>\n",
       "      <td>0.000000</td>\n",
       "      <td>143.0</td>\n",
       "      <td>1.0</td>\n",
       "      <td>65.0</td>\n",
       "      <td>No</td>\n",
       "    </tr>\n",
       "    <tr>\n",
       "      <th>11</th>\n",
       "      <td>70.000000</td>\n",
       "      <td>2.0</td>\n",
       "      <td>1.0</td>\n",
       "      <td>1.000000</td>\n",
       "      <td>143.0</td>\n",
       "      <td>1.0</td>\n",
       "      <td>50.0</td>\n",
       "      <td>Yes</td>\n",
       "    </tr>\n",
       "  </tbody>\n",
       "</table>\n",
       "</div>"
      ],
      "text/plain": [
       "         Umur  Status Pernikahan  Jenis Kelamin  Kategori Berat Badan  \\\n",
       "0   60.000000                2.0            0.0              1.000000   \n",
       "1   69.000000                2.0            1.0              1.000000   \n",
       "2   52.000000                1.0            0.0              0.933824   \n",
       "3   66.000000                2.0            1.0              1.000000   \n",
       "4   70.000000                3.0            0.0              1.000000   \n",
       "5   72.940741                1.0            0.0              0.000000   \n",
       "6   58.000000                2.0            1.0              0.000000   \n",
       "7   59.000000                2.0            1.0              0.000000   \n",
       "10  52.000000                1.0            0.0              0.000000   \n",
       "11  70.000000                2.0            1.0              1.000000   \n",
       "\n",
       "    Kolesterol  Pelatihan Pengelolaan Stress  Tingkat Stress Serangan Jantung  \n",
       "0        150.0                           1.0            50.0              Yes  \n",
       "1        170.0                           0.0            60.0              Yes  \n",
       "2        174.0                           1.0            35.0               No  \n",
       "3        169.0                           0.0            60.0              Yes  \n",
       "4        237.0                           0.0            65.0              Yes  \n",
       "5        174.0                           1.0            35.0               No  \n",
       "6        140.0                           0.0            45.0               No  \n",
       "7        143.0                           0.0            45.0              Yes  \n",
       "10       143.0                           1.0            65.0               No  \n",
       "11       143.0                           1.0            50.0              Yes  "
      ]
     },
     "execution_count": 21,
     "metadata": {},
     "output_type": "execute_result"
    }
   ],
   "source": [
    "remove_noise3.head(10)"
   ]
  },
  {
   "attachments": {},
   "cell_type": "markdown",
   "metadata": {},
   "source": [
    "Random Forest"
   ]
  },
  {
   "cell_type": "code",
   "execution_count": 22,
   "metadata": {},
   "outputs": [],
   "source": [
    "from sklearn.ensemble import RandomForestClassifier\n",
    "from sklearn.model_selection import cross_val_score\n",
    "\n",
    "X = remove_noise3.iloc[:, :-1].values\n",
    "y = remove_noise3.iloc[:, -1].values"
   ]
  },
  {
   "cell_type": "code",
   "execution_count": 32,
   "metadata": {},
   "outputs": [
    {
     "name": "stdout",
     "output_type": "stream",
     "text": [
      "Mean Accuracy: 96.26%\n"
     ]
    }
   ],
   "source": [
    "model = RandomForestClassifier()\n",
    "scores = cross_val_score(model, X, y, cv=10)\n",
    "\n",
    "# Print results\n",
    "print(\"Mean Accuracy: %.2f%%\" % (scores.mean()*100.0))"
   ]
  },
  {
   "cell_type": "code",
   "execution_count": 34,
   "metadata": {},
   "outputs": [
    {
     "data": {
      "text/plain": [
       "RandomForestClassifier()"
      ]
     },
     "execution_count": 34,
     "metadata": {},
     "output_type": "execute_result"
    }
   ],
   "source": [
    "model.fit(X, y)"
   ]
  },
  {
   "cell_type": "code",
   "execution_count": 35,
   "metadata": {},
   "outputs": [
    {
     "data": {
      "text/plain": [
       "['rf_model.pkl']"
      ]
     },
     "execution_count": 35,
     "metadata": {},
     "output_type": "execute_result"
    }
   ],
   "source": [
    "import joblib\n",
    "joblib.dump(model, 'rf_model.pkl')"
   ]
  },
  {
   "cell_type": "code",
   "execution_count": 38,
   "metadata": {},
   "outputs": [
    {
     "name": "stdout",
     "output_type": "stream",
     "text": [
      "Data ke-1: Sakit Jantung\n",
      "Data ke-2: Sakit Jantung\n",
      "Data ke-3: Sakit Jantung\n",
      "Data ke-4: Sakit Jantung\n",
      "Data ke-5: Sakit Jantung\n",
      "Data ke-6: Sakit Jantung\n",
      "Data ke-7: Sakit Jantung\n",
      "Data ke-8: Sakit Jantung\n",
      "Data ke-9: Sakit Jantung\n",
      "Data ke-10: Sakit Jantung\n"
     ]
    },
    {
     "name": "stderr",
     "output_type": "stream",
     "text": [
      "C:\\Users\\USER\\AppData\\Local\\Packages\\PythonSoftwareFoundation.Python.3.7_qbz5n2kfra8p0\\LocalCache\\local-packages\\Python37\\site-packages\\sklearn\\base.py:444: UserWarning: X has feature names, but RandomForestClassifier was fitted without feature names\n",
      "  f\"X has feature names, but {self.__class__.__name__} was fitted without\"\n"
     ]
    }
   ],
   "source": [
    "new_data = pd.read_excel('SeranganJantung-PelangganBaru.xlsx')\n",
    "\n",
    "rf_model = joblib.load('rf_model.pkl')\n",
    "predictions = rf_model.predict(new_data)\n",
    "\n",
    "for i in range(len(predictions)):\n",
    "    if predictions[i] == 0:\n",
    "        print(f\"Data ke-{i+1}: Tidak Sakit Jantung\")\n",
    "    else:\n",
    "        print(f\"Data ke-{i+1}: Sakit Jantung\")"
   ]
  },
  {
   "attachments": {},
   "cell_type": "markdown",
   "metadata": {},
   "source": [
    "KNN"
   ]
  },
  {
   "cell_type": "code",
   "execution_count": 39,
   "metadata": {},
   "outputs": [],
   "source": [
    "from sklearn.neighbors import KNeighborsClassifier\n",
    "\n",
    "X = remove_noise3.iloc[:, :-1].values\n",
    "y = remove_noise3.iloc[:, -1].values"
   ]
  },
  {
   "cell_type": "code",
   "execution_count": 40,
   "metadata": {},
   "outputs": [
    {
     "name": "stdout",
     "output_type": "stream",
     "text": [
      "Mean Accuracy: 73.63%\n"
     ]
    }
   ],
   "source": [
    "model = KNeighborsClassifier()\n",
    "scores = cross_val_score(model, X, y, cv=10)\n",
    "\n",
    "# Print results\n",
    "print(\"Mean Accuracy: %.2f%%\" % (scores.mean()*100.0))"
   ]
  },
  {
   "cell_type": "code",
   "execution_count": 41,
   "metadata": {},
   "outputs": [
    {
     "data": {
      "text/plain": [
       "KNeighborsClassifier()"
      ]
     },
     "execution_count": 41,
     "metadata": {},
     "output_type": "execute_result"
    }
   ],
   "source": [
    "model.fit(X, y)"
   ]
  },
  {
   "cell_type": "code",
   "execution_count": 42,
   "metadata": {},
   "outputs": [
    {
     "data": {
      "text/plain": [
       "['knn_model.pkl']"
      ]
     },
     "execution_count": 42,
     "metadata": {},
     "output_type": "execute_result"
    }
   ],
   "source": [
    "joblib.dump(model, 'knn_model.pkl')"
   ]
  },
  {
   "cell_type": "code",
   "execution_count": 43,
   "metadata": {},
   "outputs": [
    {
     "name": "stdout",
     "output_type": "stream",
     "text": [
      "Data ke-1: Sakit Jantung\n",
      "Data ke-2: Sakit Jantung\n",
      "Data ke-3: Sakit Jantung\n",
      "Data ke-4: Sakit Jantung\n",
      "Data ke-5: Sakit Jantung\n",
      "Data ke-6: Sakit Jantung\n",
      "Data ke-7: Sakit Jantung\n",
      "Data ke-8: Sakit Jantung\n",
      "Data ke-9: Sakit Jantung\n",
      "Data ke-10: Sakit Jantung\n"
     ]
    },
    {
     "name": "stderr",
     "output_type": "stream",
     "text": [
      "C:\\Users\\USER\\AppData\\Local\\Packages\\PythonSoftwareFoundation.Python.3.7_qbz5n2kfra8p0\\LocalCache\\local-packages\\Python37\\site-packages\\sklearn\\base.py:444: UserWarning: X has feature names, but KNeighborsClassifier was fitted without feature names\n",
      "  f\"X has feature names, but {self.__class__.__name__} was fitted without\"\n"
     ]
    }
   ],
   "source": [
    "knn_model = joblib.load('knn_model.pkl')\n",
    "predictions = knn_model.predict(new_data)\n",
    "\n",
    "for i in range(len(predictions)):\n",
    "    if predictions[i] == 0:\n",
    "        print(f\"Data ke-{i+1}: Tidak Sakit Jantung\")\n",
    "    else:\n",
    "        print(f\"Data ke-{i+1}: Sakit Jantung\")"
   ]
  },
  {
   "attachments": {},
   "cell_type": "markdown",
   "metadata": {},
   "source": [
    "SVM"
   ]
  },
  {
   "cell_type": "code",
   "execution_count": 44,
   "metadata": {},
   "outputs": [],
   "source": [
    "from sklearn.svm import SVC\n",
    "\n",
    "X = remove_noise3.iloc[:, :-1].values\n",
    "y = remove_noise3.iloc[:, -1].values"
   ]
  },
  {
   "cell_type": "code",
   "execution_count": 45,
   "metadata": {},
   "outputs": [
    {
     "name": "stdout",
     "output_type": "stream",
     "text": [
      "Mean Accuracy: 90.22%\n"
     ]
    }
   ],
   "source": [
    "model = SVC(kernel='linear')\n",
    "scores = cross_val_score(model, X, y, cv=10)\n",
    "\n",
    "# Print results\n",
    "print(\"Mean Accuracy: %.2f%%\" % (scores.mean()*100.0))"
   ]
  },
  {
   "cell_type": "code",
   "execution_count": 46,
   "metadata": {},
   "outputs": [
    {
     "data": {
      "text/plain": [
       "SVC(kernel='linear')"
      ]
     },
     "execution_count": 46,
     "metadata": {},
     "output_type": "execute_result"
    }
   ],
   "source": [
    "model.fit(X, y)"
   ]
  },
  {
   "cell_type": "code",
   "execution_count": 47,
   "metadata": {},
   "outputs": [
    {
     "data": {
      "text/plain": [
       "['svm_model.pkl']"
      ]
     },
     "execution_count": 47,
     "metadata": {},
     "output_type": "execute_result"
    }
   ],
   "source": [
    "joblib.dump(model, 'svm_model.pkl')"
   ]
  },
  {
   "cell_type": "code",
   "execution_count": 48,
   "metadata": {},
   "outputs": [
    {
     "name": "stdout",
     "output_type": "stream",
     "text": [
      "Data ke-1: Sakit Jantung\n",
      "Data ke-2: Sakit Jantung\n",
      "Data ke-3: Sakit Jantung\n",
      "Data ke-4: Sakit Jantung\n",
      "Data ke-5: Sakit Jantung\n",
      "Data ke-6: Sakit Jantung\n",
      "Data ke-7: Sakit Jantung\n",
      "Data ke-8: Sakit Jantung\n",
      "Data ke-9: Sakit Jantung\n",
      "Data ke-10: Sakit Jantung\n"
     ]
    },
    {
     "name": "stderr",
     "output_type": "stream",
     "text": [
      "C:\\Users\\USER\\AppData\\Local\\Packages\\PythonSoftwareFoundation.Python.3.7_qbz5n2kfra8p0\\LocalCache\\local-packages\\Python37\\site-packages\\sklearn\\base.py:444: UserWarning: X has feature names, but SVC was fitted without feature names\n",
      "  f\"X has feature names, but {self.__class__.__name__} was fitted without\"\n"
     ]
    }
   ],
   "source": [
    "svm_model = joblib.load('svm_model.pkl')\n",
    "predictions = svm_model.predict(new_data)\n",
    "\n",
    "for i in range(len(predictions)):\n",
    "    if predictions[i] == 0:\n",
    "        print(f\"Data ke-{i+1}: Tidak Sakit Jantung\")\n",
    "    else:\n",
    "        print(f\"Data ke-{i+1}: Sakit Jantung\")"
   ]
  }
 ],
 "metadata": {
  "kernelspec": {
   "display_name": "Python 3",
   "language": "python",
   "name": "python3"
  },
  "language_info": {
   "codemirror_mode": {
    "name": "ipython",
    "version": 3
   },
   "file_extension": ".py",
   "mimetype": "text/x-python",
   "name": "python",
   "nbconvert_exporter": "python",
   "pygments_lexer": "ipython3",
   "version": "3.7.9"
  },
  "orig_nbformat": 4,
  "vscode": {
   "interpreter": {
    "hash": "784a0799c0dae6dba3c15d23f5950f5cac127d4542c4889e7ad9101ae93f3407"
   }
  }
 },
 "nbformat": 4,
 "nbformat_minor": 2
}
